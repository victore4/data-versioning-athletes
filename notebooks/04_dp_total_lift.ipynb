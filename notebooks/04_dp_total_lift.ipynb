{
 "cells": [
  {
   "cell_type": "code",
   "execution_count": 1,
   "id": "f4490a3c-5620-4779-860c-4bf476e912cf",
   "metadata": {},
   "outputs": [
    {
     "name": "stdout",
     "output_type": "stream",
     "text": [
      "Python: 3.11.11 | packaged by conda-forge | (main, Dec  5 2024, 08:47:03) [Clang 18.1.8 ]\n",
      "TF: 2.15.0\n"
     ]
    }
   ],
   "source": [
    "import sys, math\n",
    "import numpy as np\n",
    "import pandas as pd\n",
    "\n",
    "import tensorflow as tf\n",
    "print(\"Python:\", sys.version)\n",
    "print(\"TF:\", tf.__version__)\n",
    "\n",
    "from sklearn.model_selection import train_test_split\n",
    "from sklearn.preprocessing import StandardScaler\n",
    "from sklearn.metrics import mean_absolute_error, mean_squared_error, r2_score\n",
    "\n",
    "from tensorflow_privacy.privacy.optimizers.dp_optimizer_keras import DPKerasSGDOptimizer\n",
    "from tensorflow_privacy.privacy.analysis.compute_dp_sgd_privacy_lib import compute_dp_sgd_privacy"
   ]
  },
  {
   "cell_type": "code",
   "execution_count": 2,
   "id": "fda6ac10-e861-4556-a5ea-b003b8dd6a37",
   "metadata": {},
   "outputs": [
    {
     "name": "stdout",
     "output_type": "stream",
     "text": [
      "Shapes: (24665, 3) (6167, 3)\n"
     ]
    }
   ],
   "source": [
    "CSV_V2 = \"../data/processed/athletes_v2_with_total.csv\"\n",
    "RANDOM_STATE = 42\n",
    "TEST_SIZE = 0.20\n",
    "\n",
    "df = pd.read_csv(CSV_V2)\n",
    "\n",
    "# Features & target\n",
    "X = df[['age','height','weight']].astype(float)\n",
    "y = df['total_lift'].astype(float)\n",
    "\n",
    "# Drop rows with missing values in features or target\n",
    "mask = X.notna().all(axis=1) & y.notna()\n",
    "X, y = X[mask], y[mask]\n",
    "\n",
    "# Train/test split\n",
    "X_tr, X_te, y_tr, y_te = train_test_split(\n",
    "    X, y, test_size=TEST_SIZE, random_state=RANDOM_STATE\n",
    ")\n",
    "\n",
    "# Standardize features\n",
    "scaler = StandardScaler()\n",
    "X_tr_s = scaler.fit_transform(X_tr)\n",
    "X_te_s = scaler.transform(X_te)\n",
    "\n",
    "# Make everything float32 & strictly finite\n",
    "X_tr_s = X_tr_s.astype(\"float32\"); X_te_s = X_te_s.astype(\"float32\")\n",
    "y_tr    = y_tr.astype(\"float32\");   y_te   = y_te.astype(\"float32\")\n",
    "\n",
    "tr_ok = np.isfinite(X_tr_s).all(axis=1)\n",
    "te_ok = np.isfinite(X_te_s).all(axis=1)\n",
    "X_tr_s, y_tr = X_tr_s[tr_ok], y_tr.iloc[tr_ok].to_numpy()\n",
    "X_te_s, y_te = X_te_s[te_ok], y_te.iloc[te_ok].to_numpy()\n",
    "\n",
    "print(\"Shapes:\", X_tr_s.shape, X_te_s.shape)\n"
   ]
  },
  {
   "cell_type": "code",
   "execution_count": 3,
   "id": "108133b9-edf5-48c8-893d-747ce7fbfce2",
   "metadata": {},
   "outputs": [
    {
     "name": "stdout",
     "output_type": "stream",
     "text": [
      "[v2 non-DP Keras] MAE=151.04  RMSE=195.47  R2=0.511\n"
     ]
    }
   ],
   "source": [
    "from tensorflow.keras.optimizers.legacy import SGD\n",
    "\n",
    "tf.keras.utils.set_random_seed(42)\n",
    "\n",
    "non_dp = tf.keras.Sequential([\n",
    "    tf.keras.layers.Input(shape=(3,)),\n",
    "    tf.keras.layers.Dense(\n",
    "        16, activation='relu',\n",
    "        kernel_initializer='he_normal',\n",
    "        kernel_regularizer=tf.keras.regularizers.l2(1e-4)\n",
    "    ),\n",
    "    tf.keras.layers.Dense(1),\n",
    "])\n",
    "\n",
    "non_dp.compile(\n",
    "    optimizer=SGD(learning_rate=0.001, momentum=0.9, nesterov=True, clipnorm=1.0),\n",
    "    loss=tf.keras.losses.Huber(delta=50.0),\n",
    ")\n",
    "\n",
    "es = tf.keras.callbacks.EarlyStopping(monitor='loss', patience=8, restore_best_weights=True)\n",
    "non_dp.fit(X_tr_s, y_tr, epochs=200, batch_size=128, verbose=0, callbacks=[es])\n",
    "\n",
    "pred_non_dp = non_dp.predict(X_te_s, verbose=0).ravel()\n",
    "mae_ndp  = mean_absolute_error(y_te, pred_non_dp)\n",
    "rmse_ndp = math.sqrt(mean_squared_error(y_te, pred_non_dp))\n",
    "r2_ndp   = r2_score(y_te, pred_non_dp)\n",
    "print(f\"[v2 non-DP Keras] MAE={mae_ndp:.2f}  RMSE={rmse_ndp:.2f}  R2={r2_ndp:.3f}\")\n"
   ]
  },
  {
   "cell_type": "code",
   "execution_count": 4,
   "id": "1201fc43-b745-4cf8-a27e-8bfd9f4a5317",
   "metadata": {},
   "outputs": [
    {
     "name": "stdout",
     "output_type": "stream",
     "text": [
      "Epoch 1/30\n",
      "385/385 [==============================] - 1s 1ms/step - loss: 1108207.5000\n",
      "Epoch 2/30\n",
      "385/385 [==============================] - 1s 1ms/step - loss: 1101466.2500\n",
      "Epoch 3/30\n",
      "385/385 [==============================] - 1s 2ms/step - loss: 1092394.5000\n",
      "Epoch 4/30\n",
      "385/385 [==============================] - 1s 2ms/step - loss: 1080770.6250\n",
      "Epoch 5/30\n",
      "385/385 [==============================] - 0s 1ms/step - loss: 1066554.6250\n",
      "Epoch 6/30\n",
      "385/385 [==============================] - 0s 1ms/step - loss: 1049658.0000\n",
      "Epoch 7/30\n",
      "385/385 [==============================] - 0s 1ms/step - loss: 1029982.9375\n",
      "Epoch 8/30\n",
      "385/385 [==============================] - 0s 1ms/step - loss: 1007534.3750\n",
      "Epoch 9/30\n",
      "385/385 [==============================] - 0s 1ms/step - loss: 982501.2500\n",
      "Epoch 10/30\n",
      "385/385 [==============================] - 0s 1ms/step - loss: 955081.5625\n",
      "Epoch 11/30\n",
      "385/385 [==============================] - 0s 1ms/step - loss: 925416.1250\n",
      "Epoch 12/30\n",
      "385/385 [==============================] - 0s 1ms/step - loss: 893708.8750\n",
      "Epoch 13/30\n",
      "385/385 [==============================] - 0s 1ms/step - loss: 860150.9375\n",
      "Epoch 14/30\n",
      "385/385 [==============================] - 0s 1ms/step - loss: 825014.2500\n",
      "Epoch 15/30\n",
      "385/385 [==============================] - 0s 1ms/step - loss: 788446.1875\n",
      "Epoch 16/30\n",
      "385/385 [==============================] - 0s 1ms/step - loss: 750659.9375\n",
      "Epoch 17/30\n",
      "385/385 [==============================] - 0s 1ms/step - loss: 711713.3125\n",
      "Epoch 18/30\n",
      "385/385 [==============================] - 0s 1ms/step - loss: 672030.1250\n",
      "Epoch 19/30\n",
      "385/385 [==============================] - 0s 1ms/step - loss: 631849.9375\n",
      "Epoch 20/30\n",
      "385/385 [==============================] - 0s 1ms/step - loss: 591372.6875\n",
      "Epoch 21/30\n",
      "385/385 [==============================] - 0s 1ms/step - loss: 550883.7500\n",
      "Epoch 22/30\n",
      "385/385 [==============================] - 0s 1ms/step - loss: 510677.1562\n",
      "Epoch 23/30\n",
      "385/385 [==============================] - 0s 1ms/step - loss: 471059.5625\n",
      "Epoch 24/30\n",
      "385/385 [==============================] - 0s 1ms/step - loss: 432334.8438\n",
      "Epoch 25/30\n",
      "385/385 [==============================] - 0s 1ms/step - loss: 394716.7188\n",
      "Epoch 26/30\n",
      "385/385 [==============================] - 0s 1ms/step - loss: 358465.2500\n",
      "Epoch 27/30\n",
      "385/385 [==============================] - 0s 1ms/step - loss: 323766.1875\n",
      "Epoch 28/30\n",
      "385/385 [==============================] - 0s 1ms/step - loss: 290944.5312\n",
      "Epoch 29/30\n",
      "385/385 [==============================] - 0s 1ms/step - loss: 260092.4688\n",
      "Epoch 30/30\n",
      "385/385 [==============================] - 0s 1ms/step - loss: 231515.4062\n"
     ]
    }
   ],
   "source": [
    "# DP Training\n",
    "from tensorflow_privacy.privacy.optimizers.dp_optimizer_keras import DPKerasAdamOptimizer\n",
    "from tensorflow.keras.losses import Reduction\n",
    "\n",
    "# Hyperparams\n",
    "batch_size       = 64\n",
    "epochs           = 30        \n",
    "l2_norm_clip     = 1.0\n",
    "noise_multiplier = 0.6\n",
    "learning_rate    = 5e-4\n",
    "\n",
    "train_ds = (\n",
    "    tf.data.Dataset.from_tensor_slices((X_tr_s, y_tr))\n",
    "      .shuffle(len(X_tr_s), seed=42, reshuffle_each_iteration=True)\n",
    "      .batch(batch_size, drop_remainder=True)\n",
    "      .cache()\n",
    "      .prefetch(tf.data.AUTOTUNE)\n",
    ")\n",
    "\n",
    "dp_opt = DPKerasAdamOptimizer(\n",
    "    l2_norm_clip=l2_norm_clip,\n",
    "    noise_multiplier=noise_multiplier,\n",
    "    num_microbatches=batch_size,\n",
    "    learning_rate=learning_rate,\n",
    ")\n",
    "\n",
    "dp = tf.keras.Sequential([\n",
    "    tf.keras.layers.Input(shape=(3,)),\n",
    "    tf.keras.layers.Dense(16, activation='relu', kernel_initializer='he_normal'),\n",
    "    tf.keras.layers.Dense(1),\n",
    "])\n",
    "\n",
    "dp.compile(\n",
    "    optimizer=dp_opt,\n",
    "    loss=tf.keras.losses.MeanSquaredError(reduction=Reduction.NONE),\n",
    "    run_eagerly=False,\n",
    ")\n",
    "\n",
    "history = dp.fit(train_ds, epochs=epochs, verbose=1)\n"
   ]
  },
  {
   "cell_type": "code",
   "execution_count": 5,
   "id": "8862352b-596d-4137-aa8d-392f76bc945e",
   "metadata": {},
   "outputs": [
    {
     "name": "stdout",
     "output_type": "stream",
     "text": [
      "[v2 DP] MAE=399.94  RMSE=469.34  R2=-1.816\n"
     ]
    }
   ],
   "source": [
    "# Evaluate DP Model\n",
    "import numpy as np, math\n",
    "from sklearn.metrics import mean_absolute_error, mean_squared_error, r2_score\n",
    "\n",
    "for name in [\"dp\", \"X_te_s\", \"y_te\"]:\n",
    "    assert name in globals(), f\"Missing variable: {name} (run the previous cells that define it)\"\n",
    "\n",
    "pred_dp = dp.predict(X_te_s, batch_size=1024, verbose=0).ravel()\n",
    "\n",
    "good = np.isfinite(pred_dp)\n",
    "if not good.all():\n",
    "    pred_dp = pred_dp[good]\n",
    "    y_te_eval = y_te[good]\n",
    "else:\n",
    "    y_te_eval = y_te\n",
    "\n",
    "mae_dp  = mean_absolute_error(y_te_eval, pred_dp)\n",
    "rmse_dp = math.sqrt(mean_squared_error(y_te_eval, pred_dp))\n",
    "r2_dp   = r2_score(y_te_eval, pred_dp)\n",
    "print(f\"[v2 DP] MAE={mae_dp:.2f}  RMSE={rmse_dp:.2f}  R2={r2_dp:.3f}\")"
   ]
  },
  {
   "cell_type": "code",
   "execution_count": 6,
   "id": "069daf5a-36da-4aee-9f2c-5f03d1caa9e3",
   "metadata": {},
   "outputs": [
    {
     "name": "stderr",
     "output_type": "stream",
     "text": [
      "WARNING:absl:`compute_dp_sgd_privacy` is deprecated. It does not account for doubling of sensitivity with microbatching, and assumes Poisson subsampling, which is rarely used in practice. Please use `compute_dp_sgd_privacy_statement`, which provides appropriate context for the guarantee. To compute epsilon under different assumptions than those in `compute_dp_sgd_privacy_statement`, call the `dp_accounting` libraries directly.\n"
     ]
    },
    {
     "name": "stdout",
     "output_type": "stream",
     "text": [
      "DP-SGD privacy: ε=6.98, δ=1e-05 (opt_order=3.0)\n"
     ]
    }
   ],
   "source": [
    "# Privacy Accounting\n",
    "try:\n",
    "    from tensorflow_privacy.privacy.analysis.compute_dp_sgd_privacy_lib import compute_dp_sgd_privacy\n",
    "except Exception:\n",
    "    \n",
    "    from tensorflow_privacy.privacy.analysis import compute_dp_sgd_privacy as _mod\n",
    "    compute_dp_sgd_privacy = _mod.compute_dp_sgd_privacy\n",
    "\n",
    "for name in [\"X_tr_s\", \"batch_size\", \"epochs\", \"noise_multiplier\"]:\n",
    "    assert name in globals(), f\"Missing variable: {name} (run the DP setup cell)\"\n",
    "\n",
    "delta = 1e-5\n",
    "n = len(X_tr_s)\n",
    "\n",
    "eps, opt_order = compute_dp_sgd_privacy(\n",
    "    n=n,\n",
    "    batch_size=batch_size,\n",
    "    noise_multiplier=noise_multiplier,\n",
    "    epochs=epochs,\n",
    "    delta=delta,\n",
    ")\n",
    "print(f\"DP-SGD privacy: ε={eps:.2f}, δ={delta} (opt_order={opt_order})\")\n"
   ]
  },
  {
   "cell_type": "code",
   "execution_count": 7,
   "id": "d345aa57-771c-4e4e-90ee-1882b669a91a",
   "metadata": {},
   "outputs": [
    {
     "data": {
      "text/html": [
       "<div>\n",
       "<style scoped>\n",
       "    .dataframe tbody tr th:only-of-type {\n",
       "        vertical-align: middle;\n",
       "    }\n",
       "\n",
       "    .dataframe tbody tr th {\n",
       "        vertical-align: top;\n",
       "    }\n",
       "\n",
       "    .dataframe thead th {\n",
       "        text-align: right;\n",
       "    }\n",
       "</style>\n",
       "<table border=\"1\" class=\"dataframe\">\n",
       "  <thead>\n",
       "    <tr style=\"text-align: right;\">\n",
       "      <th></th>\n",
       "      <th>model</th>\n",
       "      <th>MAE</th>\n",
       "      <th>RMSE</th>\n",
       "      <th>R2</th>\n",
       "      <th>dp</th>\n",
       "      <th>eps</th>\n",
       "      <th>delta</th>\n",
       "    </tr>\n",
       "  </thead>\n",
       "  <tbody>\n",
       "    <tr>\n",
       "      <th>0</th>\n",
       "      <td>v2 non-DP (Keras)</td>\n",
       "      <td>151.041626</td>\n",
       "      <td>195.471615</td>\n",
       "      <td>0.511492</td>\n",
       "      <td>False</td>\n",
       "      <td>NaN</td>\n",
       "      <td>NaN</td>\n",
       "    </tr>\n",
       "    <tr>\n",
       "      <th>1</th>\n",
       "      <td>v2 DP</td>\n",
       "      <td>399.936523</td>\n",
       "      <td>469.341294</td>\n",
       "      <td>-1.816319</td>\n",
       "      <td>True</td>\n",
       "      <td>6.978008</td>\n",
       "      <td>0.00001</td>\n",
       "    </tr>\n",
       "  </tbody>\n",
       "</table>\n",
       "</div>"
      ],
      "text/plain": [
       "               model         MAE        RMSE        R2     dp       eps  \\\n",
       "0  v2 non-DP (Keras)  151.041626  195.471615  0.511492  False       NaN   \n",
       "1              v2 DP  399.936523  469.341294 -1.816319   True  6.978008   \n",
       "\n",
       "     delta  \n",
       "0      NaN  \n",
       "1  0.00001  "
      ]
     },
     "metadata": {},
     "output_type": "display_data"
    },
    {
     "name": "stdout",
     "output_type": "stream",
     "text": [
      "Saved → ../data/processed/metrics_v2_dp_vs_nodp.csv\n"
     ]
    }
   ],
   "source": [
    "# Saving comparison to a CSV for slides later\n",
    "import pandas as pd\n",
    "rows = []\n",
    "\n",
    "if {\"mae_ndp\",\"rmse_ndp\",\"r2_ndp\"} <= set(globals()):\n",
    "    rows.append(dict(model=\"v2 non-DP (Keras)\", MAE=mae_ndp, RMSE=rmse_ndp, R2=r2_ndp,\n",
    "                     dp=False, eps=None, delta=None))\n",
    "\n",
    "rows.append(dict(model=\"v2 DP\", MAE=mae_dp, RMSE=rmse_dp, R2=r2_dp,\n",
    "                 dp=True, eps=eps, delta=delta))\n",
    "\n",
    "cmp_df = pd.DataFrame(rows)\n",
    "display(cmp_df)\n",
    "\n",
    "out = \"../data/processed/metrics_v2_dp_vs_nodp.csv\"\n",
    "cmp_df.to_csv(out, index=False)\n",
    "print(\"Saved →\", out)\n"
   ]
  }
 ],
 "metadata": {
  "kernelspec": {
   "display_name": "Python (dv-dp-tf215)",
   "language": "python",
   "name": "dv-dp-tf215"
  },
  "language_info": {
   "codemirror_mode": {
    "name": "ipython",
    "version": 3
   },
   "file_extension": ".py",
   "mimetype": "text/x-python",
   "name": "python",
   "nbconvert_exporter": "python",
   "pygments_lexer": "ipython3",
   "version": "3.11.11"
  }
 },
 "nbformat": 4,
 "nbformat_minor": 5
}
