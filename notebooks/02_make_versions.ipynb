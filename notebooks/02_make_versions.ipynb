{
 "cells": [
  {
   "cell_type": "code",
   "execution_count": 1,
   "id": "557f47a9-6fa3-4166-8607-6b2e64b4da8e",
   "metadata": {},
   "outputs": [
    {
     "name": "stdout",
     "output_type": "stream",
     "text": [
      "(85191, 28) (30832, 15)\n"
     ]
    }
   ],
   "source": [
    "import pandas as pd\n",
    "from pathlib import Path\n",
    "\n",
    "# v1 (raw) -> add total_lift\n",
    "v1 = pd.read_csv('../data/raw/athletes.csv')\n",
    "# keep only rows that have the four lifts to define total_lift\n",
    "lift_cols = ['candj','snatch','deadlift','backsq']\n",
    "v1 = v1.dropna(subset=lift_cols)\n",
    "v1['total_lift'] = v1['candj'] + v1['snatch'] + v1['deadlift'] + v1['backsq']\n",
    "Path('../data/raw').mkdir(parents=True, exist_ok=True)\n",
    "v1.to_csv('../data/raw/athletes_v1_with_total.csv', index=False)\n",
    "\n",
    "# v2 (cleaned) -> add total_lift\n",
    "v2 = pd.read_csv('../data/processed/athletes_clean.csv')\n",
    "v2['total_lift'] = v2['candj'] + v2['snatch'] + v2['deadlift'] + v2['backsq']\n",
    "Path('../data/processed').mkdir(parents=True, exist_ok=True)\n",
    "v2.to_csv('../data/processed/athletes_v2_with_total.csv', index=False)\n",
    "\n",
    "print(v1.shape, v2.shape)"
   ]
  },
  {
   "cell_type": "code",
   "execution_count": null,
   "id": "bb8f9aed-9656-472a-a2f6-6194814a859c",
   "metadata": {},
   "outputs": [],
   "source": []
  }
 ],
 "metadata": {
  "kernelspec": {
   "display_name": "Python 3 (ipykernel)",
   "language": "python",
   "name": "python3"
  },
  "language_info": {
   "codemirror_mode": {
    "name": "ipython",
    "version": 3
   },
   "file_extension": ".py",
   "mimetype": "text/x-python",
   "name": "python",
   "nbconvert_exporter": "python",
   "pygments_lexer": "ipython3",
   "version": "3.12.4"
  }
 },
 "nbformat": 4,
 "nbformat_minor": 5
}
