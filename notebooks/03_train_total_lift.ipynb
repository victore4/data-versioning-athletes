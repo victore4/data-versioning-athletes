{
 "cells": [
  {
   "cell_type": "code",
   "execution_count": 3,
   "id": "a6ad56bb-6aae-4777-9ee6-0f7ab04b091a",
   "metadata": {
    "scrolled": true
   },
   "outputs": [
    {
     "name": "stdout",
     "output_type": "stream",
     "text": [
      "Shape: (30832, 15)\n",
      "                age        height        weight    total_lift\n",
      "count  30832.000000  30832.000000  30832.000000  30832.000000\n",
      "mean      32.123670     68.870005    177.131033   1017.781980\n",
      "std        7.428352      3.776151     32.387674    278.297178\n",
      "min       18.000000     52.000000      5.000000      4.000000\n",
      "25%       27.000000     66.000000    155.000000    805.000000\n",
      "50%       31.000000     69.000000    178.000000   1040.000000\n",
      "75%       37.000000     72.000000    197.000000   1224.000000\n",
      "max       56.000000     83.000000    474.000000   2135.000000\n"
     ]
    },
    {
     "data": {
      "image/png": "[encoded data removed]",
      "text/plain": [
       "<Figure size 640x480 with 1 Axes>"
      ]
     },
     "metadata": {},
     "output_type": "display_data"
    },
    {
     "name": "stdout",
     "output_type": "stream",
     "text": [
      "[v2] MAE=163.95  RMSE=207.81  R2=0.448\n"
     ]
    }
   ],
   "source": [
    "DATA_VERSION = \"v2\"\n",
    "PATHS = {\n",
    "    \"v1\": \"../data/raw/athletes_v1_with_total.csv\",\n",
    "    \"v2\": \"../data/processed/athletes_v2_with_total.csv\",\n",
    "}\n",
    "CSV_PATH = PATHS[DATA_VERSION]\n",
    "RANDOM_STATE = 42\n",
    "TEST_SIZE = 0.2\n",
    "\n",
    "import pandas as pd, matplotlib.pyplot as plt\n",
    "df = pd.read_csv(CSV_PATH)\n",
    "print(\"Shape:\", df.shape)\n",
    "print(df[['age','height','weight','total_lift']].describe())\n",
    "df['total_lift'].hist(bins=30); plt.title(f\"total_lift ({DATA_VERSION})\"); plt.show()\n",
    "\n",
    "from sklearn.model_selection import train_test_split\n",
    "from sklearn.linear_model import LinearRegression\n",
    "from sklearn.metrics import mean_absolute_error, mean_squared_error, r2_score\n",
    "import math\n",
    "\n",
    "X = df[['age','height','weight']].copy()\n",
    "y = df['total_lift'].copy()\n",
    "mask = X.notna().all(axis=1) & y.notna()\n",
    "X, y = X[mask], y[mask]\n",
    "\n",
    "X_tr, X_te, y_tr, y_te = train_test_split(X, y, test_size=TEST_SIZE, random_state=RANDOM_STATE)\n",
    "m = LinearRegression().fit(X_tr, y_tr)\n",
    "pred = m.predict(X_te)\n",
    "\n",
    "mae  = mean_absolute_error(y_te, pred)\n",
    "mse  = mean_squared_error(y_te, pred)\n",
    "rmse = math.sqrt(mse)\n",
    "r2   = r2_score(y_te, pred)\n",
    "\n",
    "print(f\"[{DATA_VERSION}] MAE={mae:.2f}  RMSE={rmse:.2f}  R2={r2:.3f}\")\n"
   ]
  },
  {
   "cell_type": "code",
   "execution_count": 4,
   "id": "31086691-83b3-4645-8b4f-bb3f13cb06b9",
   "metadata": {},
   "outputs": [
    {
     "data": {
      "text/html": [
       "<div>\n",
       "<style scoped>\n",
       "    .dataframe tbody tr th:only-of-type {\n",
       "        vertical-align: middle;\n",
       "    }\n",
       "\n",
       "    .dataframe tbody tr th {\n",
       "        vertical-align: top;\n",
       "    }\n",
       "\n",
       "    .dataframe thead th {\n",
       "        text-align: right;\n",
       "    }\n",
       "</style>\n",
       "<table border=\"1\" class=\"dataframe\">\n",
       "  <thead>\n",
       "    <tr style=\"text-align: right;\">\n",
       "      <th></th>\n",
       "      <th>version</th>\n",
       "      <th>MAE</th>\n",
       "      <th>RMSE</th>\n",
       "      <th>R2</th>\n",
       "    </tr>\n",
       "  </thead>\n",
       "  <tbody>\n",
       "    <tr>\n",
       "      <th>0</th>\n",
       "      <td>v1</td>\n",
       "      <td>2331.176695</td>\n",
       "      <td>137931.101901</td>\n",
       "      <td>0.000136</td>\n",
       "    </tr>\n",
       "    <tr>\n",
       "      <th>1</th>\n",
       "      <td>v2</td>\n",
       "      <td>163.953538</td>\n",
       "      <td>207.810547</td>\n",
       "      <td>0.447872</td>\n",
       "    </tr>\n",
       "  </tbody>\n",
       "</table>\n",
       "</div>"
      ],
      "text/plain": [
       "  version          MAE           RMSE        R2\n",
       "0      v1  2331.176695  137931.101901  0.000136\n",
       "1      v2   163.953538     207.810547  0.447872"
      ]
     },
     "execution_count": 4,
     "metadata": {},
     "output_type": "execute_result"
    }
   ],
   "source": [
    "#NOTE TO SELF: INSERT INTO MY SLIDES\n",
    "import pandas as pd, math\n",
    "from sklearn.model_selection import train_test_split\n",
    "from sklearn.linear_model import LinearRegression\n",
    "from sklearn.metrics import mean_absolute_error, mean_squared_error, r2_score\n",
    "\n",
    "def eval_path(label, path):\n",
    "    df = pd.read_csv(path)\n",
    "    X = df[['age','height','weight']]; y = df['total_lift']\n",
    "    msk = X.notna().all(axis=1) & y.notna()\n",
    "    X, y = X[msk], y[msk]\n",
    "    Xtr, Xte, ytr, yte = train_test_split(X, y, test_size=0.2, random_state=42)\n",
    "    m = LinearRegression().fit(Xtr, ytr); p = m.predict(Xte)\n",
    "    mae = mean_absolute_error(yte, p); rmse = math.sqrt(mean_squared_error(yte, p)); r2 = r2_score(yte, p)\n",
    "    return {\"version\": label, \"MAE\": mae, \"RMSE\": rmse, \"R2\": r2}\n",
    "\n",
    "res = pd.DataFrame([\n",
    "    eval_path(\"v1\", \"../data/raw/athletes_v1_with_total.csv\"),\n",
    "    eval_path(\"v2\", \"../data/processed/athletes_v2_with_total.csv\"),\n",
    "])\n",
    "res\n"
   ]
  }
 ],
 "metadata": {
  "kernelspec": {
   "display_name": "Python 3 (ipykernel)",
   "language": "python",
   "name": "python3"
  },
  "language_info": {
   "codemirror_mode": {
    "name": "ipython",
    "version": 3
   },
   "file_extension": ".py",
   "mimetype": "text/x-python",
   "name": "python",
   "nbconvert_exporter": "python",
   "pygments_lexer": "ipython3",
   "version": "3.12.4"
  }
 },
 "nbformat": 4,
 "nbformat_minor": 5
}
