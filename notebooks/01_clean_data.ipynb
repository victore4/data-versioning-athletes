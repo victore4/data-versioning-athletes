{
 "cells": [
  {
   "cell_type": "code",
   "execution_count": 32,
   "id": "a574d3d3-e16a-45b5-802b-715feb450f5f",
   "metadata": {},
   "outputs": [],
   "source": [
    "import pandas as pd\n",
    "import numpy as np\n",
    "\n",
    "# Load raw dataset\n",
    "data = pd.read_csv('../data/raw/athletes.csv')\n",
    "\n",
    "# Remove not relevant columns\n",
    "required_cols = [\n",
    "    'region','age','weight','height','howlong','gender','eat',\n",
    "    'train','background','experience','schedule',\n",
    "    'deadlift','candj','snatch','backsq'\n",
    "]\n",
    "data = data.dropna(subset=[col for col in required_cols if col in data.columns])\n",
    "\n",
    "cols_to_drop = [\n",
    "    'affiliate','team','name','athlete_id','fran','helen','grace',\n",
    "    'filthy50','fgonebad','run400','run5k','pullups','train'\n",
    "]\n",
    "data = data.drop(columns=[col for col in cols_to_drop if col in data.columns])\n",
    "\n",
    "# Remove Outliers\n",
    "data = data[data['weight'] < 1500]\n",
    "data = data[data['gender'] != '--']\n",
    "data = data[data['age'] >= 18]\n",
    "data = data[(data['height'] < 96) & (data['height'] > 48)]\n",
    "\n",
    "data = data[((data['deadlift'] > 0) &\n",
    "             (((data['gender'] != 'Female') & (data['deadlift'] <= 1105)) |\n",
    "              ((data['gender'] == 'Female') & (data['deadlift'] <= 636))))]\n",
    "data = data[(data['candj'] > 0) & (data['candj'] <= 395)]\n",
    "data = data[(data['snatch'] > 0) & (data['snatch'] <= 496)]\n",
    "data = data[(data['backsq'] > 0) & (data['backsq'] <= 1069)]\n",
    "\n",
    "# Clean Survey Data\n",
    "cols = ['eat','background','experience','schedule','howlong']\n",
    "for c in cols:\n",
    "    s = data[c].astype(str)\n",
    "    s = s.str.replace(r'(?i)\\s*\\|\\s*decline\\s*to\\s*answer\\|\\s*', '|', regex=True)\n",
    "    s = s.str.replace(r'(?i)^\\s*decline\\s*to\\s*answer\\|\\s*', '', regex=True)\n",
    "    s = s.str.replace(r'(?i)\\s*\\|\\s*decline\\s*to\\s*answer\\s*$', '', regex=True)\n",
    "    s = s.str.replace(r'\\|{2,}', '|', regex=True)\n",
    "    s = s.str.replace(r'^\\|', '', regex=True)\n",
    "    s = s.str.replace(r'\\|$', '', regex=True)\n",
    "    data[c] = s.str.strip()\n",
    "\n",
    "data = data.dropna(subset=['background','experience','schedule','howlong','eat'])\n",
    "\n",
    "# Save cleaned dataset (v2)\n",
    "data.to_csv('../data/processed/athletes_clean.csv', index=False)"
   ]
  },
  {
   "cell_type": "code",
   "execution_count": 33,
   "id": "d8b64f04-323e-434e-a69c-8508715a983f",
   "metadata": {},
   "outputs": [
    {
     "name": "stdout",
     "output_type": "stream",
     "text": [
      "v1 shape: (423006, 27)\n",
      "v2 shape: (30832, 14)\n",
      "Minimum age: 18.0\n",
      "Height range: 52.0 to 83.0\n",
      "Unique genders: ['Male' 'Female']\n",
      "Decline to answer present? False\n",
      "Columns: ['region', 'gender', 'age', 'height', 'weight', 'candj', 'snatch', 'deadlift', 'backsq', 'eat', 'background', 'experience', 'schedule', 'howlong']\n"
     ]
    }
   ],
   "source": [
    "# Verify cleaning\n",
    "v1 = pd.read_csv('../data/raw/athletes.csv')\n",
    "v2 = pd.read_csv('../data/processed/athletes_clean.csv')\n",
    "\n",
    "print(\"v1 shape:\", v1.shape)\n",
    "print(\"v2 shape:\", v2.shape)\n",
    "print(\"Minimum age:\", v2['age'].min())\n",
    "print(\"Height range:\", v2['height'].min(), \"to\", v2['height'].max())\n",
    "print(\"Unique genders:\", v2['gender'].unique())\n",
    "print(\"Decline to answer present?\",\n",
    "      v2.select_dtypes(include='object')\n",
    "        .apply(lambda s: s.str.contains('Decline to answer', na=False, case=False))\n",
    "        .any().any())\n",
    "print(\"Columns:\", list(v2.columns))"
   ]
  },
  {
   "cell_type": "code",
   "execution_count": null,
   "id": "b85c3752-2c4f-422a-b775-3fbc8778fefd",
   "metadata": {},
   "outputs": [],
   "source": []
  }
 ],
 "metadata": {
  "kernelspec": {
   "display_name": "Python 3 (ipykernel)",
   "language": "python",
   "name": "python3"
  },
  "language_info": {
   "codemirror_mode": {
    "name": "ipython",
    "version": 3
   },
   "file_extension": ".py",
   "mimetype": "text/x-python",
   "name": "python",
   "nbconvert_exporter": "python",
   "pygments_lexer": "ipython3",
   "version": "3.12.4"
  }
 },
 "nbformat": 4,
 "nbformat_minor": 5
}
